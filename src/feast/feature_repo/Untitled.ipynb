{
 "cells": [
  {
   "cell_type": "code",
   "execution_count": 148,
   "id": "1f97334e-d88e-4ab0-baca-91ae4d541aa3",
   "metadata": {
    "tags": []
   },
   "outputs": [
    {
     "name": "stdout",
     "output_type": "stream",
     "text": [
      "/opt/conda/lib/python3.11/site-packages/feast/repo_config.py:233: RuntimeWarning: `entity_key_serialization_version` is either not specified in the feature_store.yaml, or is specified to a value <= 1.This serialization version may cause errors when trying to write fields with the `Long` data type into the online store. Specifying `entity_key_serialization_version` to 2 is recommended for new projects. \n",
      "  warnings.warn(\n",
      "Updated feature view \u001b[1m\u001b[33mfact_feature_view\u001b[0m\n",
      "\tentities: \u001b[1m\u001b[33m['host_id']\u001b[0m -> \u001b[1m\u001b[92m['id']\u001b[0m\n",
      "\tentity_columns: \u001b[1m\u001b[33m[name: \"host_id\"\n",
      "value_type: INT64\n",
      "]\u001b[0m -> \u001b[1m\u001b[92m[name: \"id\"\n",
      "value_type: INT64\n",
      "]\u001b[0m\n",
      "Updated feature view \u001b[1m\u001b[33mreview_feature_view\u001b[0m\n",
      "\tentities: \u001b[1m\u001b[33m['host_id']\u001b[0m -> \u001b[1m\u001b[92m['id']\u001b[0m\n",
      "\tentity_columns: \u001b[1m\u001b[33m[name: \"host_id\"\n",
      "value_type: INT64\n",
      "]\u001b[0m -> \u001b[1m\u001b[92m[name: \"id\"\n",
      "value_type: INT64\n",
      "]\u001b[0m\n",
      "\n",
      "\u001b[1m\u001b[94mNo changes to infrastructure\n"
     ]
    }
   ],
   "source": [
    "!rm -rf .ipynb_checkpoints\n",
    "!rm -rf __pycache__\n",
    "!feast apply"
   ]
  },
  {
   "cell_type": "code",
   "execution_count": 149,
   "id": "3b0ed5c8-b948-45d1-b4b2-5f7852211a90",
   "metadata": {},
   "outputs": [],
   "source": [
    "import pandas as pd\n",
    "from sqlalchemy import create_engine\n",
    "\n",
    "db_config = {\n",
    "    'user': 'admin',\n",
    "    'password': 'admin123',\n",
    "    'host': 'feast_postgres',\n",
    "    'port': '5432',\n",
    "    'database': 'feast_postgres'\n",
    "}\n",
    "\n",
    "connection_string = f\"postgresql://{db_config['user']}:{db_config['password']}@{db_config['host']}:{db_config['port']}/{db_config['database']}\"\n",
    "engine = create_engine(connection_string)"
   ]
  },
  {
   "cell_type": "code",
   "execution_count": 150,
   "id": "b163f576-d446-42e0-baa1-806ab502e5f7",
   "metadata": {},
   "outputs": [
    {
     "name": "stderr",
     "output_type": "stream",
     "text": [
      "/opt/conda/lib/python3.11/site-packages/feast/repo_config.py:233: RuntimeWarning: `entity_key_serialization_version` is either not specified in the feature_store.yaml, or is specified to a value <= 1.This serialization version may cause errors when trying to write fields with the `Long` data type into the online store. Specifying `entity_key_serialization_version` to 2 is recommended for new projects. \n",
      "  warnings.warn(\n"
     ]
    }
   ],
   "source": [
    "from feast import FeatureStore\n",
    "\n",
    "listing_query = \"SELECT * FROM listing_table\"\n",
    "host_query = \"SELECT * FROM host_table\"\n",
    "review_query = \"SELECT *, event_timestamp as review_event_timestamp FROM review_table\"\n",
    "fact_query = \"SELECT *, event_timestamp as fact_event_timestamp FROM fact_table\"\n",
    "\n",
    "listing_df = pd.read_sql(listing_query, engine)\n",
    "host_df = pd.read_sql(host_query, engine)\n",
    "review_df = pd.read_sql(review_query, engine)\n",
    "fact_df = pd.read_sql(fact_query, engine)\n",
    "\n",
    "listing_df[\"event_timestamp\"] = pd.to_datetime(listing_df[\"event_timestamp\"])\n",
    "host_df[\"event_timestamp\"] = pd.to_datetime(host_df[\"event_timestamp\"])\n",
    "review_df[\"review_event_timestamp\"] = pd.to_datetime(review_df[\"review_event_timestamp\"])\n",
    "fact_df[\"fact_event_timestamp\"] = pd.to_datetime(fact_df[\"fact_event_timestamp\"])\n",
    "\n",
    "fs = FeatureStore(repo_path=\".\")"
   ]
  },
  {
   "cell_type": "code",
   "execution_count": 151,
   "id": "6f726354-7462-42d1-bec9-4b1d94bfd475",
   "metadata": {},
   "outputs": [
    {
     "name": "stdout",
     "output_type": "stream",
     "text": [
      "Listing Features Data:\n",
      "         id            event_timestamp   host_id         property_type  \\\n",
      "0   1489424 2024-05-14 08:21:02.644933   5294164  Private room in home   \n",
      "1   3820211 2024-05-14 08:21:02.644933  19648678    Entire rental unit   \n",
      "2   5651579 2024-05-14 08:21:02.644933  29288920    Entire rental unit   \n",
      "3  10768745 2024-05-14 08:21:02.644933   5691268           Entire home   \n",
      "4   1854638 2024-05-14 08:21:02.644933   9075763    Entire rental unit   \n",
      "\n",
      "         room_type  accommodates  bathrooms  bedrooms  beds  \\\n",
      "0     Private room             2        1.0       1.0   1.0   \n",
      "1  Entire home/apt             2        1.0       1.0   1.0   \n",
      "2  Entire home/apt             2        1.0       0.0   1.0   \n",
      "3  Entire home/apt             1        1.0       1.0   1.0   \n",
      "4  Entire home/apt             2        1.0       1.0   1.0   \n",
      "\n",
      "                                           amenities      price  \\\n",
      "0  \"Oven\", \"Central air conditioning\", \"Wifi\", \"C...   50.00000   \n",
      "1  \"Iron\", \"Oven\", \"Central air conditioning\", \"W...  115.00000   \n",
      "2  \"Iron\", \"Oven\", \"Wifi\", \"Carbon monoxide alarm...   90.00000   \n",
      "3  \"Iron\", \"Oven\", \"Single level home\", \"Wifi\", \"...   50.00000   \n",
      "4  \"Heating\", \"Wifi\", \"Free parking on premises\",...  272.56156   \n",
      "\n",
      "   has_availability  availability_30  availability_60  availability_90  \\\n",
      "0               1.0                0                0                6   \n",
      "1               1.0               29               59               88   \n",
      "2               1.0               10               39               48   \n",
      "3               1.0                2               13               37   \n",
      "4               1.0                0                0                0   \n",
      "\n",
      "   availability_365  instant_bookable  \n",
      "0             231.0                 0  \n",
      "1             363.0                 0  \n",
      "2              54.0                 0  \n",
      "3             122.0                 0  \n",
      "4               0.0                 0  \n"
     ]
    }
   ],
   "source": [
    "listing_features = [\n",
    "    \"listing_feature_view:host_id\",\n",
    "    \"listing_feature_view:property_type\",\n",
    "    \"listing_feature_view:room_type\",\n",
    "    \"listing_feature_view:accommodates\",\n",
    "    \"listing_feature_view:bathrooms\",\n",
    "    \"listing_feature_view:bedrooms\",\n",
    "    \"listing_feature_view:beds\",\n",
    "    \"listing_feature_view:amenities\",\n",
    "    \"listing_feature_view:has_availability\",\n",
    "    \"listing_feature_view:availability_30\",\n",
    "    \"listing_feature_view:availability_60\",\n",
    "    \"listing_feature_view:availability_90\",\n",
    "    \"listing_feature_view:availability_365\",\n",
    "    \"listing_feature_view:instant_bookable\"\n",
    "]\n",
    "\n",
    "listing_df = fs.get_historical_features(\n",
    "    entity_df=listing_df[[\"id\", \"event_timestamp\"]],\n",
    "    features=listing_features\n",
    ").to_df()\n",
    "\n",
    "print(\"Listing Features Data:\")\n",
    "print(listing_features_df.head())"
   ]
  },
  {
   "cell_type": "code",
   "execution_count": 152,
   "id": "7a650da8-f895-4949-b28a-022bb785558e",
   "metadata": {},
   "outputs": [
    {
     "name": "stdout",
     "output_type": "stream",
     "text": [
      "Host Features Data:\n",
      "    host_id            event_timestamp  host_response_rate  \\\n",
      "0   5294164 2024-05-14 08:21:16.830847               100.0   \n",
      "1  19648678 2024-05-14 08:21:16.830847               100.0   \n",
      "2  17766924 2024-05-14 08:21:16.830847               100.0   \n",
      "3   5691268 2024-05-14 08:21:16.830847                98.0   \n",
      "4   4259750 2024-05-14 08:21:16.830847                94.0   \n",
      "\n",
      "   host_acceptance_rate  host_is_superhost  host_listings_count  \\\n",
      "0                  84.0                0.0                  1.0   \n",
      "1                  68.0                0.0                  4.0   \n",
      "2                 100.0                0.0                  1.0   \n",
      "3                  87.0                1.0                  2.0   \n",
      "4                  88.0                1.0                  9.0   \n",
      "\n",
      "   host_total_listings_count host_verifications  host_has_profile_pic  \\\n",
      "0                        2.0       email, phone                   1.0   \n",
      "1                        7.0       email, phone                   1.0   \n",
      "2                        1.0       email, phone                   1.0   \n",
      "3                        3.0       email, phone                   1.0   \n",
      "4                       14.0       email, phone                   1.0   \n",
      "\n",
      "   host_identity_verified  \n",
      "0                     1.0  \n",
      "1                     1.0  \n",
      "2                     1.0  \n",
      "3                     1.0  \n",
      "4                     1.0  \n"
     ]
    }
   ],
   "source": [
    "host_features = [\n",
    "    \"host_feature_view:host_response_rate\",\n",
    "    \"host_feature_view:host_acceptance_rate\",\n",
    "    \"host_feature_view:host_is_superhost\",\n",
    "    \"host_feature_view:host_listings_count\",\n",
    "    \"host_feature_view:host_total_listings_count\",\n",
    "    \"host_feature_view:host_verifications\",\n",
    "    \"host_feature_view:host_has_profile_pic\",\n",
    "    \"host_feature_view:host_identity_verified\",\n",
    "]\n",
    "\n",
    "host_features_df = fs.get_historical_features(\n",
    "    entity_df=host_df[[\"host_id\", \"event_timestamp\"]],\n",
    "    features=host_features\n",
    ").to_df()\n",
    "\n",
    "print(\"Host Features Data:\")\n",
    "print(host_features_df.head())"
   ]
  },
  {
   "cell_type": "code",
   "execution_count": 153,
   "id": "e51a8f9e-b321-4c89-835f-ae19e9c1b7a8",
   "metadata": {},
   "outputs": [
    {
     "ename": "UndefinedColumn",
     "evalue": "column \"review_event_timestamp\" does not exist\nLINE 55:         \"review_event_timestamp\" as event_timestamp,\n                 ^\n",
     "output_type": "error",
     "traceback": [
      "\u001b[0;31m---------------------------------------------------------------------------\u001b[0m",
      "\u001b[0;31mUndefinedColumn\u001b[0m                           Traceback (most recent call last)",
      "Cell \u001b[0;32mIn[153], line 17\u001b[0m\n\u001b[1;32m      1\u001b[0m review_features \u001b[38;5;241m=\u001b[39m [\n\u001b[1;32m      2\u001b[0m     \u001b[38;5;124m\"\u001b[39m\u001b[38;5;124mreview_feature_view:number_of_reviews\u001b[39m\u001b[38;5;124m\"\u001b[39m,\n\u001b[1;32m      3\u001b[0m     \u001b[38;5;124m\"\u001b[39m\u001b[38;5;124mreview_feature_view:number_of_reviews_ltm\u001b[39m\u001b[38;5;124m\"\u001b[39m,\n\u001b[0;32m   (...)\u001b[0m\n\u001b[1;32m     11\u001b[0m     \u001b[38;5;124m\"\u001b[39m\u001b[38;5;124mreview_feature_view:reviews_per_month\u001b[39m\u001b[38;5;124m\"\u001b[39m,\n\u001b[1;32m     12\u001b[0m ]\n\u001b[1;32m     14\u001b[0m review_features_df \u001b[38;5;241m=\u001b[39m \u001b[43mfs\u001b[49m\u001b[38;5;241;43m.\u001b[39;49m\u001b[43mget_historical_features\u001b[49m\u001b[43m(\u001b[49m\n\u001b[1;32m     15\u001b[0m \u001b[43m    \u001b[49m\u001b[43mentity_df\u001b[49m\u001b[38;5;241;43m=\u001b[39;49m\u001b[43mreview_df\u001b[49m\u001b[43m[\u001b[49m\u001b[43m[\u001b[49m\u001b[38;5;124;43m\"\u001b[39;49m\u001b[38;5;124;43mid\u001b[39;49m\u001b[38;5;124;43m\"\u001b[39;49m\u001b[43m,\u001b[49m\u001b[43m \u001b[49m\u001b[38;5;124;43m\"\u001b[39;49m\u001b[38;5;124;43mevent_timestamp\u001b[39;49m\u001b[38;5;124;43m\"\u001b[39;49m\u001b[43m]\u001b[49m\u001b[43m]\u001b[49m\u001b[43m,\u001b[49m\n\u001b[1;32m     16\u001b[0m \u001b[43m    \u001b[49m\u001b[43mfeatures\u001b[49m\u001b[38;5;241;43m=\u001b[39;49m\u001b[43mreview_features\u001b[49m\n\u001b[0;32m---> 17\u001b[0m \u001b[43m)\u001b[49m\u001b[38;5;241;43m.\u001b[39;49m\u001b[43mto_df\u001b[49m\u001b[43m(\u001b[49m\u001b[43m)\u001b[49m\n\u001b[1;32m     19\u001b[0m \u001b[38;5;28mprint\u001b[39m(\u001b[38;5;124m\"\u001b[39m\u001b[38;5;124mReview Features Data:\u001b[39m\u001b[38;5;124m\"\u001b[39m)\n\u001b[1;32m     20\u001b[0m \u001b[38;5;28mprint\u001b[39m(review_features_df\u001b[38;5;241m.\u001b[39mhead())\n",
      "File \u001b[0;32m/opt/conda/lib/python3.11/site-packages/feast/infra/offline_stores/offline_store.py:80\u001b[0m, in \u001b[0;36mRetrievalJob.to_df\u001b[0;34m(self, validation_reference, timeout)\u001b[0m\n\u001b[1;32m     64\u001b[0m \u001b[38;5;28;01mdef\u001b[39;00m \u001b[38;5;21mto_df\u001b[39m(\n\u001b[1;32m     65\u001b[0m     \u001b[38;5;28mself\u001b[39m,\n\u001b[1;32m     66\u001b[0m     validation_reference: Optional[\u001b[38;5;124m\"\u001b[39m\u001b[38;5;124mValidationReference\u001b[39m\u001b[38;5;124m\"\u001b[39m] \u001b[38;5;241m=\u001b[39m \u001b[38;5;28;01mNone\u001b[39;00m,\n\u001b[1;32m     67\u001b[0m     timeout: Optional[\u001b[38;5;28mint\u001b[39m] \u001b[38;5;241m=\u001b[39m \u001b[38;5;28;01mNone\u001b[39;00m,\n\u001b[1;32m     68\u001b[0m ) \u001b[38;5;241m-\u001b[39m\u001b[38;5;241m>\u001b[39m pd\u001b[38;5;241m.\u001b[39mDataFrame:\n\u001b[1;32m     69\u001b[0m \u001b[38;5;250m    \u001b[39m\u001b[38;5;124;03m\"\"\"\u001b[39;00m\n\u001b[1;32m     70\u001b[0m \u001b[38;5;124;03m    Synchronously executes the underlying query and returns the result as a pandas dataframe.\u001b[39;00m\n\u001b[1;32m     71\u001b[0m \n\u001b[0;32m   (...)\u001b[0m\n\u001b[1;32m     77\u001b[0m \u001b[38;5;124;03m        timeout (optional): The query timeout if applicable.\u001b[39;00m\n\u001b[1;32m     78\u001b[0m \u001b[38;5;124;03m    \"\"\"\u001b[39;00m\n\u001b[1;32m     79\u001b[0m     \u001b[38;5;28;01mreturn\u001b[39;00m (\n\u001b[0;32m---> 80\u001b[0m         \u001b[38;5;28;43mself\u001b[39;49m\u001b[38;5;241;43m.\u001b[39;49m\u001b[43mto_arrow\u001b[49m\u001b[43m(\u001b[49m\u001b[43mvalidation_reference\u001b[49m\u001b[38;5;241;43m=\u001b[39;49m\u001b[43mvalidation_reference\u001b[49m\u001b[43m,\u001b[49m\u001b[43m \u001b[49m\u001b[43mtimeout\u001b[49m\u001b[38;5;241;43m=\u001b[39;49m\u001b[43mtimeout\u001b[49m\u001b[43m)\u001b[49m\n\u001b[1;32m     81\u001b[0m         \u001b[38;5;241m.\u001b[39mto_pandas()\n\u001b[1;32m     82\u001b[0m         \u001b[38;5;241m.\u001b[39mreset_index(drop\u001b[38;5;241m=\u001b[39m\u001b[38;5;28;01mTrue\u001b[39;00m)\n\u001b[1;32m     83\u001b[0m     )\n",
      "File \u001b[0;32m/opt/conda/lib/python3.11/site-packages/feast/infra/offline_stores/offline_store.py:100\u001b[0m, in \u001b[0;36mRetrievalJob.to_arrow\u001b[0;34m(self, validation_reference, timeout)\u001b[0m\n\u001b[1;32m     85\u001b[0m \u001b[38;5;28;01mdef\u001b[39;00m \u001b[38;5;21mto_arrow\u001b[39m(\n\u001b[1;32m     86\u001b[0m     \u001b[38;5;28mself\u001b[39m,\n\u001b[1;32m     87\u001b[0m     validation_reference: Optional[\u001b[38;5;124m\"\u001b[39m\u001b[38;5;124mValidationReference\u001b[39m\u001b[38;5;124m\"\u001b[39m] \u001b[38;5;241m=\u001b[39m \u001b[38;5;28;01mNone\u001b[39;00m,\n\u001b[1;32m     88\u001b[0m     timeout: Optional[\u001b[38;5;28mint\u001b[39m] \u001b[38;5;241m=\u001b[39m \u001b[38;5;28;01mNone\u001b[39;00m,\n\u001b[1;32m     89\u001b[0m ) \u001b[38;5;241m-\u001b[39m\u001b[38;5;241m>\u001b[39m pyarrow\u001b[38;5;241m.\u001b[39mTable:\n\u001b[1;32m     90\u001b[0m \u001b[38;5;250m    \u001b[39m\u001b[38;5;124;03m\"\"\"\u001b[39;00m\n\u001b[1;32m     91\u001b[0m \u001b[38;5;124;03m    Synchronously executes the underlying query and returns the result as an arrow table.\u001b[39;00m\n\u001b[1;32m     92\u001b[0m \n\u001b[0;32m   (...)\u001b[0m\n\u001b[1;32m     98\u001b[0m \u001b[38;5;124;03m        timeout (optional): The query timeout if applicable.\u001b[39;00m\n\u001b[1;32m     99\u001b[0m \u001b[38;5;124;03m    \"\"\"\u001b[39;00m\n\u001b[0;32m--> 100\u001b[0m     features_table \u001b[38;5;241m=\u001b[39m \u001b[38;5;28;43mself\u001b[39;49m\u001b[38;5;241;43m.\u001b[39;49m\u001b[43m_to_arrow_internal\u001b[49m\u001b[43m(\u001b[49m\u001b[43mtimeout\u001b[49m\u001b[38;5;241;43m=\u001b[39;49m\u001b[43mtimeout\u001b[49m\u001b[43m)\u001b[49m\n\u001b[1;32m    101\u001b[0m     \u001b[38;5;28;01mif\u001b[39;00m \u001b[38;5;28mself\u001b[39m\u001b[38;5;241m.\u001b[39mon_demand_feature_views:\n\u001b[1;32m    102\u001b[0m         \u001b[38;5;28;01mfor\u001b[39;00m odfv \u001b[38;5;129;01min\u001b[39;00m \u001b[38;5;28mself\u001b[39m\u001b[38;5;241m.\u001b[39mon_demand_feature_views:\n",
      "File \u001b[0;32m/opt/conda/lib/python3.11/site-packages/feast/infra/offline_stores/contrib/postgres_offline_store/postgres.py:282\u001b[0m, in \u001b[0;36mPostgreSQLRetrievalJob._to_arrow_internal\u001b[0;34m(self, timeout)\u001b[0m\n\u001b[1;32m    280\u001b[0m \u001b[38;5;28;01mwith\u001b[39;00m _get_conn(\u001b[38;5;28mself\u001b[39m\u001b[38;5;241m.\u001b[39mconfig\u001b[38;5;241m.\u001b[39moffline_store) \u001b[38;5;28;01mas\u001b[39;00m conn, conn\u001b[38;5;241m.\u001b[39mcursor() \u001b[38;5;28;01mas\u001b[39;00m cur:\n\u001b[1;32m    281\u001b[0m     conn\u001b[38;5;241m.\u001b[39mset_session(readonly\u001b[38;5;241m=\u001b[39m\u001b[38;5;28;01mTrue\u001b[39;00m)\n\u001b[0;32m--> 282\u001b[0m     \u001b[43mcur\u001b[49m\u001b[38;5;241;43m.\u001b[39;49m\u001b[43mexecute\u001b[49m\u001b[43m(\u001b[49m\u001b[43mquery\u001b[49m\u001b[43m)\u001b[49m\n\u001b[1;32m    283\u001b[0m     fields \u001b[38;5;241m=\u001b[39m [\n\u001b[1;32m    284\u001b[0m         (c\u001b[38;5;241m.\u001b[39mname, pg_type_code_to_arrow(c\u001b[38;5;241m.\u001b[39mtype_code))\n\u001b[1;32m    285\u001b[0m         \u001b[38;5;28;01mfor\u001b[39;00m c \u001b[38;5;129;01min\u001b[39;00m cur\u001b[38;5;241m.\u001b[39mdescription\n\u001b[1;32m    286\u001b[0m     ]\n\u001b[1;32m    287\u001b[0m     data \u001b[38;5;241m=\u001b[39m cur\u001b[38;5;241m.\u001b[39mfetchall()\n",
      "\u001b[0;31mUndefinedColumn\u001b[0m: column \"review_event_timestamp\" does not exist\nLINE 55:         \"review_event_timestamp\" as event_timestamp,\n                 ^\n"
     ]
    }
   ],
   "source": [
    "review_features = [\n",
    "    \"review_feature_view:number_of_reviews\",\n",
    "    \"review_feature_view:number_of_reviews_ltm\",\n",
    "    \"review_feature_view:number_of_reviews_l30d\",\n",
    "    \"review_feature_view:review_scores_rating\",\n",
    "    \"review_feature_view:review_scores_accuracy\",\n",
    "    \"review_feature_view:review_scores_cleanliness\",\n",
    "    \"review_feature_view:review_scores_checkin\",\n",
    "    \"review_feature_view:review_scores_communication\",\n",
    "    \"review_feature_view:review_scores_value\",\n",
    "    \"review_feature_view:reviews_per_month\",\n",
    "]\n",
    "\n",
    "review_features_df = fs.get_historical_features(\n",
    "    entity_df=review_df[[\"id\", \"event_timestamp\"]],\n",
    "    features=review_features\n",
    ").to_df()\n",
    "\n",
    "print(\"Review Features Data:\")\n",
    "print(review_features_df.head())\n"
   ]
  },
  {
   "cell_type": "code",
   "execution_count": 154,
   "id": "cafdc2a3-b2b7-48a4-9742-ea079b8103f3",
   "metadata": {},
   "outputs": [
    {
     "ename": "UndefinedColumn",
     "evalue": "column \"fact_event_timestamp\" does not exist\nLINE 55:         \"fact_event_timestamp\" as event_timestamp,\n                 ^\n",
     "output_type": "error",
     "traceback": [
      "\u001b[0;31m---------------------------------------------------------------------------\u001b[0m",
      "\u001b[0;31mUndefinedColumn\u001b[0m                           Traceback (most recent call last)",
      "Cell \u001b[0;32mIn[154], line 19\u001b[0m\n\u001b[1;32m      1\u001b[0m fact_features \u001b[38;5;241m=\u001b[39m [\n\u001b[1;32m      2\u001b[0m     \u001b[38;5;124m\"\u001b[39m\u001b[38;5;124mfact_feature_view:minimum_nights\u001b[39m\u001b[38;5;124m\"\u001b[39m,\n\u001b[1;32m      3\u001b[0m     \u001b[38;5;124m\"\u001b[39m\u001b[38;5;124mfact_feature_view:maximum_nights\u001b[39m\u001b[38;5;124m\"\u001b[39m,\n\u001b[0;32m   (...)\u001b[0m\n\u001b[1;32m     13\u001b[0m     \u001b[38;5;124m\"\u001b[39m\u001b[38;5;124mfact_feature_view:calculated_host_listings_count_shared_rooms\u001b[39m\u001b[38;5;124m\"\u001b[39m,\n\u001b[1;32m     14\u001b[0m ]\n\u001b[1;32m     16\u001b[0m fact_features_df \u001b[38;5;241m=\u001b[39m \u001b[43mfs\u001b[49m\u001b[38;5;241;43m.\u001b[39;49m\u001b[43mget_historical_features\u001b[49m\u001b[43m(\u001b[49m\n\u001b[1;32m     17\u001b[0m \u001b[43m    \u001b[49m\u001b[43mentity_df\u001b[49m\u001b[38;5;241;43m=\u001b[39;49m\u001b[43mfact_df\u001b[49m\u001b[43m[\u001b[49m\u001b[43m[\u001b[49m\u001b[38;5;124;43m\"\u001b[39;49m\u001b[38;5;124;43mid\u001b[39;49m\u001b[38;5;124;43m\"\u001b[39;49m\u001b[43m,\u001b[49m\u001b[43m \u001b[49m\u001b[38;5;124;43m\"\u001b[39;49m\u001b[38;5;124;43mevent_timestamp\u001b[39;49m\u001b[38;5;124;43m\"\u001b[39;49m\u001b[43m]\u001b[49m\u001b[43m]\u001b[49m\u001b[43m,\u001b[49m\n\u001b[1;32m     18\u001b[0m \u001b[43m    \u001b[49m\u001b[43mfeatures\u001b[49m\u001b[38;5;241;43m=\u001b[39;49m\u001b[43mfact_features\u001b[49m\n\u001b[0;32m---> 19\u001b[0m \u001b[43m)\u001b[49m\u001b[38;5;241;43m.\u001b[39;49m\u001b[43mto_df\u001b[49m\u001b[43m(\u001b[49m\u001b[43m)\u001b[49m\n\u001b[1;32m     21\u001b[0m \u001b[38;5;28mprint\u001b[39m(\u001b[38;5;124m\"\u001b[39m\u001b[38;5;124mFact Features Data:\u001b[39m\u001b[38;5;124m\"\u001b[39m)\n\u001b[1;32m     22\u001b[0m \u001b[38;5;28mprint\u001b[39m(fact_features_df\u001b[38;5;241m.\u001b[39mhead())\n",
      "File \u001b[0;32m/opt/conda/lib/python3.11/site-packages/feast/infra/offline_stores/offline_store.py:80\u001b[0m, in \u001b[0;36mRetrievalJob.to_df\u001b[0;34m(self, validation_reference, timeout)\u001b[0m\n\u001b[1;32m     64\u001b[0m \u001b[38;5;28;01mdef\u001b[39;00m \u001b[38;5;21mto_df\u001b[39m(\n\u001b[1;32m     65\u001b[0m     \u001b[38;5;28mself\u001b[39m,\n\u001b[1;32m     66\u001b[0m     validation_reference: Optional[\u001b[38;5;124m\"\u001b[39m\u001b[38;5;124mValidationReference\u001b[39m\u001b[38;5;124m\"\u001b[39m] \u001b[38;5;241m=\u001b[39m \u001b[38;5;28;01mNone\u001b[39;00m,\n\u001b[1;32m     67\u001b[0m     timeout: Optional[\u001b[38;5;28mint\u001b[39m] \u001b[38;5;241m=\u001b[39m \u001b[38;5;28;01mNone\u001b[39;00m,\n\u001b[1;32m     68\u001b[0m ) \u001b[38;5;241m-\u001b[39m\u001b[38;5;241m>\u001b[39m pd\u001b[38;5;241m.\u001b[39mDataFrame:\n\u001b[1;32m     69\u001b[0m \u001b[38;5;250m    \u001b[39m\u001b[38;5;124;03m\"\"\"\u001b[39;00m\n\u001b[1;32m     70\u001b[0m \u001b[38;5;124;03m    Synchronously executes the underlying query and returns the result as a pandas dataframe.\u001b[39;00m\n\u001b[1;32m     71\u001b[0m \n\u001b[0;32m   (...)\u001b[0m\n\u001b[1;32m     77\u001b[0m \u001b[38;5;124;03m        timeout (optional): The query timeout if applicable.\u001b[39;00m\n\u001b[1;32m     78\u001b[0m \u001b[38;5;124;03m    \"\"\"\u001b[39;00m\n\u001b[1;32m     79\u001b[0m     \u001b[38;5;28;01mreturn\u001b[39;00m (\n\u001b[0;32m---> 80\u001b[0m         \u001b[38;5;28;43mself\u001b[39;49m\u001b[38;5;241;43m.\u001b[39;49m\u001b[43mto_arrow\u001b[49m\u001b[43m(\u001b[49m\u001b[43mvalidation_reference\u001b[49m\u001b[38;5;241;43m=\u001b[39;49m\u001b[43mvalidation_reference\u001b[49m\u001b[43m,\u001b[49m\u001b[43m \u001b[49m\u001b[43mtimeout\u001b[49m\u001b[38;5;241;43m=\u001b[39;49m\u001b[43mtimeout\u001b[49m\u001b[43m)\u001b[49m\n\u001b[1;32m     81\u001b[0m         \u001b[38;5;241m.\u001b[39mto_pandas()\n\u001b[1;32m     82\u001b[0m         \u001b[38;5;241m.\u001b[39mreset_index(drop\u001b[38;5;241m=\u001b[39m\u001b[38;5;28;01mTrue\u001b[39;00m)\n\u001b[1;32m     83\u001b[0m     )\n",
      "File \u001b[0;32m/opt/conda/lib/python3.11/site-packages/feast/infra/offline_stores/offline_store.py:100\u001b[0m, in \u001b[0;36mRetrievalJob.to_arrow\u001b[0;34m(self, validation_reference, timeout)\u001b[0m\n\u001b[1;32m     85\u001b[0m \u001b[38;5;28;01mdef\u001b[39;00m \u001b[38;5;21mto_arrow\u001b[39m(\n\u001b[1;32m     86\u001b[0m     \u001b[38;5;28mself\u001b[39m,\n\u001b[1;32m     87\u001b[0m     validation_reference: Optional[\u001b[38;5;124m\"\u001b[39m\u001b[38;5;124mValidationReference\u001b[39m\u001b[38;5;124m\"\u001b[39m] \u001b[38;5;241m=\u001b[39m \u001b[38;5;28;01mNone\u001b[39;00m,\n\u001b[1;32m     88\u001b[0m     timeout: Optional[\u001b[38;5;28mint\u001b[39m] \u001b[38;5;241m=\u001b[39m \u001b[38;5;28;01mNone\u001b[39;00m,\n\u001b[1;32m     89\u001b[0m ) \u001b[38;5;241m-\u001b[39m\u001b[38;5;241m>\u001b[39m pyarrow\u001b[38;5;241m.\u001b[39mTable:\n\u001b[1;32m     90\u001b[0m \u001b[38;5;250m    \u001b[39m\u001b[38;5;124;03m\"\"\"\u001b[39;00m\n\u001b[1;32m     91\u001b[0m \u001b[38;5;124;03m    Synchronously executes the underlying query and returns the result as an arrow table.\u001b[39;00m\n\u001b[1;32m     92\u001b[0m \n\u001b[0;32m   (...)\u001b[0m\n\u001b[1;32m     98\u001b[0m \u001b[38;5;124;03m        timeout (optional): The query timeout if applicable.\u001b[39;00m\n\u001b[1;32m     99\u001b[0m \u001b[38;5;124;03m    \"\"\"\u001b[39;00m\n\u001b[0;32m--> 100\u001b[0m     features_table \u001b[38;5;241m=\u001b[39m \u001b[38;5;28;43mself\u001b[39;49m\u001b[38;5;241;43m.\u001b[39;49m\u001b[43m_to_arrow_internal\u001b[49m\u001b[43m(\u001b[49m\u001b[43mtimeout\u001b[49m\u001b[38;5;241;43m=\u001b[39;49m\u001b[43mtimeout\u001b[49m\u001b[43m)\u001b[49m\n\u001b[1;32m    101\u001b[0m     \u001b[38;5;28;01mif\u001b[39;00m \u001b[38;5;28mself\u001b[39m\u001b[38;5;241m.\u001b[39mon_demand_feature_views:\n\u001b[1;32m    102\u001b[0m         \u001b[38;5;28;01mfor\u001b[39;00m odfv \u001b[38;5;129;01min\u001b[39;00m \u001b[38;5;28mself\u001b[39m\u001b[38;5;241m.\u001b[39mon_demand_feature_views:\n",
      "File \u001b[0;32m/opt/conda/lib/python3.11/site-packages/feast/infra/offline_stores/contrib/postgres_offline_store/postgres.py:282\u001b[0m, in \u001b[0;36mPostgreSQLRetrievalJob._to_arrow_internal\u001b[0;34m(self, timeout)\u001b[0m\n\u001b[1;32m    280\u001b[0m \u001b[38;5;28;01mwith\u001b[39;00m _get_conn(\u001b[38;5;28mself\u001b[39m\u001b[38;5;241m.\u001b[39mconfig\u001b[38;5;241m.\u001b[39moffline_store) \u001b[38;5;28;01mas\u001b[39;00m conn, conn\u001b[38;5;241m.\u001b[39mcursor() \u001b[38;5;28;01mas\u001b[39;00m cur:\n\u001b[1;32m    281\u001b[0m     conn\u001b[38;5;241m.\u001b[39mset_session(readonly\u001b[38;5;241m=\u001b[39m\u001b[38;5;28;01mTrue\u001b[39;00m)\n\u001b[0;32m--> 282\u001b[0m     \u001b[43mcur\u001b[49m\u001b[38;5;241;43m.\u001b[39;49m\u001b[43mexecute\u001b[49m\u001b[43m(\u001b[49m\u001b[43mquery\u001b[49m\u001b[43m)\u001b[49m\n\u001b[1;32m    283\u001b[0m     fields \u001b[38;5;241m=\u001b[39m [\n\u001b[1;32m    284\u001b[0m         (c\u001b[38;5;241m.\u001b[39mname, pg_type_code_to_arrow(c\u001b[38;5;241m.\u001b[39mtype_code))\n\u001b[1;32m    285\u001b[0m         \u001b[38;5;28;01mfor\u001b[39;00m c \u001b[38;5;129;01min\u001b[39;00m cur\u001b[38;5;241m.\u001b[39mdescription\n\u001b[1;32m    286\u001b[0m     ]\n\u001b[1;32m    287\u001b[0m     data \u001b[38;5;241m=\u001b[39m cur\u001b[38;5;241m.\u001b[39mfetchall()\n",
      "\u001b[0;31mUndefinedColumn\u001b[0m: column \"fact_event_timestamp\" does not exist\nLINE 55:         \"fact_event_timestamp\" as event_timestamp,\n                 ^\n"
     ]
    }
   ],
   "source": [
    "fact_features = [\n",
    "    \"fact_feature_view:minimum_nights\",\n",
    "    \"fact_feature_view:maximum_nights\",\n",
    "    \"fact_feature_view:minimum_minimum_nights\",\n",
    "    \"fact_feature_view:maximum_minimum_nights\",\n",
    "    \"fact_feature_view:minimum_maximum_nights\",\n",
    "    \"fact_feature_view:maximum_maximum_nights\",\n",
    "    \"fact_feature_view:minimum_nights_avg_ntm\",\n",
    "    \"fact_feature_view:maximum_nights_avg_ntm\",\n",
    "    \"fact_feature_view:calculated_host_listings_count\",\n",
    "    \"fact_feature_view:calculated_host_listings_count_entire_homes\",\n",
    "    \"fact_feature_view:calculated_host_listings_count_private_rooms\",\n",
    "    \"fact_feature_view:calculated_host_listings_count_shared_rooms\",\n",
    "]\n",
    "\n",
    "fact_features_df = fs.get_historical_features(\n",
    "    entity_df=fact_df[[\"id\", \"event_timestamp\"]],\n",
    "    features=fact_features\n",
    ").to_df()\n",
    "\n",
    "print(\"Fact Features Data:\")\n",
    "print(fact_features_df.head())\n"
   ]
  },
  {
   "cell_type": "code",
   "execution_count": null,
   "id": "369c39ef-8f97-4295-8977-f3401d442b48",
   "metadata": {},
   "outputs": [],
   "source": []
  }
 ],
 "metadata": {
  "kernelspec": {
   "display_name": "Python 3 (ipykernel)",
   "language": "python",
   "name": "python3"
  },
  "language_info": {
   "codemirror_mode": {
    "name": "ipython",
    "version": 3
   },
   "file_extension": ".py",
   "mimetype": "text/x-python",
   "name": "python",
   "nbconvert_exporter": "python",
   "pygments_lexer": "ipython3",
   "version": "3.11.6"
  }
 },
 "nbformat": 4,
 "nbformat_minor": 5
}
