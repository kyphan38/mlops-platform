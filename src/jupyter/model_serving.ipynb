{
 "cells": [
  {
   "cell_type": "code",
   "execution_count": 17,
   "id": "37d5e690-e9a6-418f-89a4-5d1e5b151e18",
   "metadata": {},
   "outputs": [],
   "source": [
    "from fastapi import FastAPI\n",
    "from pydantic import BaseModel\n",
    "import pandas as pd\n",
    "import numpy as np\n",
    "from sklearn.preprocessing import RobustScaler\n",
    "from utils.model.transforming import yeo_johnson_transforming\n",
    "from utils.model.imputation import missing_data_handling\n",
    "from feast import FeatureStore\n",
    "import mlflow\n",
    "import mlflow.sklearn\n",
    "import uvicorn"
   ]
  },
  {
   "cell_type": "code",
   "execution_count": 21,
   "id": "12b616c1-ee02-4680-a03f-00697c331c1e",
   "metadata": {},
   "outputs": [],
   "source": [
    "class DataInput(BaseModel):\n",
    "  id: float\n",
    "  host_id: float\n",
    "  accommodates: float\n",
    "  bathrooms: float\n",
    "  bedrooms: float\n",
    "  beds: float\n",
    "  availability_30: float\n",
    "  availability_60: float\n",
    "  availability_90: float\n",
    "  availability_365: float\n",
    "  host_response_rate: float\n",
    "  host_acceptance_rate: float\n",
    "  host_listings_count: float\n",
    "  host_total_listings_count: float\n",
    "  number_of_reviews: float\n",
    "  number_of_reviews_ltm: float\n",
    "  number_of_reviews_l30d: float\n",
    "  review_scores_rating: float\n",
    "  review_scores_accuracy: float\n",
    "  review_scores_cleanliness: float\n",
    "  review_scores_checkin: float\n",
    "  review_scores_communication: float\n",
    "  review_scores_location: float\n",
    "  review_scores_value: float\n",
    "  reviews_per_month: float\n",
    "  minimum_nights: float\n",
    "  maximum_nights: float\n",
    "  minimum_minimum_nights: float\n",
    "  maximum_minimum_nights: float\n",
    "  minimum_maximum_nights: float\n",
    "  maximum_maximum_nights: float\n",
    "  minimum_nights_avg_ntm: float\n",
    "  maximum_nights_avg_ntm: float\n",
    "  \n",
    "class ModelServing:\n",
    "  def __init__(self, model):\n",
    "    self.model = model\n",
    "\n",
    "  def data_transforming(self, df):\n",
    "    # Data dropping\n",
    "    df.drop(columns=[\"id\", \"host_id\"], axis=1, inplace=True)\n",
    "    \n",
    "    # Outliers handling\n",
    "    df = missing_data_handling(df)\n",
    "\n",
    "    # Data transforming\n",
    "    df = yeo_johnson_transforming(df)\n",
    "    \n",
    "    # Data standardizing\n",
    "    scaler = RobustScaler()\n",
    "    df = scaler.fit_transform(df)\n",
    "    \n",
    "    return df\n",
    "\n",
    "  def data_prediction(self, sample_data):\n",
    "    data = self.data_transforming(sample_data)\n",
    "    pred = self.model.predict(data)\n",
    "    return pred\n",
    "\n",
    "app = FastAPI()"
   ]
  },
  {
   "cell_type": "code",
   "execution_count": 22,
   "id": "ea1681d2-c52e-4d03-a59c-297eaa415456",
   "metadata": {},
   "outputs": [],
   "source": [
    "def load_best_model(run_id, model_name):\n",
    "    model_uri = f\"runs:/{run_id}/{model_name}\"\n",
    "    model = mlflow.sklearn.load_model(model_uri)\n",
    "    return model\n",
    "\n",
    "@app.post(\"/predict\")\n",
    "def predict(data_input: DataInput):\n",
    "  data_dict = data_input.dict()\n",
    "  df = pd.DataFrame([data_dict])\n",
    "  pred = model_serving.data_prediction(df)\n",
    "\n",
    "  return {\n",
    "    \"prediction\": prediction.tolist()\n",
    "  }"
   ]
  },
  {
   "cell_type": "code",
   "execution_count": 23,
   "id": "a0fd2513-fc9a-415a-a7ef-d6f3fc6386ce",
   "metadata": {},
   "outputs": [
    {
     "name": "stderr",
     "output_type": "stream",
     "text": [
      "Downloading artifacts: 100%|██████████| 9/9 [00:00<00:00, 479.39it/s]  \n"
     ]
    },
    {
     "ename": "RuntimeError",
     "evalue": "asyncio.run() cannot be called from a running event loop",
     "output_type": "error",
     "traceback": [
      "\u001b[0;31m---------------------------------------------------------------------------\u001b[0m",
      "\u001b[0;31mRuntimeError\u001b[0m                              Traceback (most recent call last)",
      "Cell \u001b[0;32mIn[23], line 5\u001b[0m\n\u001b[1;32m      3\u001b[0m model \u001b[38;5;241m=\u001b[39m load_best_model(best_model_run_id, best_model_name)\n\u001b[1;32m      4\u001b[0m model_serving \u001b[38;5;241m=\u001b[39m ModelServing(model)\n\u001b[0;32m----> 5\u001b[0m \u001b[43muvicorn\u001b[49m\u001b[38;5;241;43m.\u001b[39;49m\u001b[43mrun\u001b[49m\u001b[43m(\u001b[49m\u001b[43mapp\u001b[49m\u001b[43m,\u001b[49m\u001b[43m \u001b[49m\u001b[43mhost\u001b[49m\u001b[38;5;241;43m=\u001b[39;49m\u001b[38;5;124;43m\"\u001b[39;49m\u001b[38;5;124;43m0.0.0.0\u001b[39;49m\u001b[38;5;124;43m\"\u001b[39;49m\u001b[43m,\u001b[49m\u001b[43m \u001b[49m\u001b[43mport\u001b[49m\u001b[38;5;241;43m=\u001b[39;49m\u001b[38;5;241;43m1234\u001b[39;49m\u001b[43m)\u001b[49m\n",
      "File \u001b[0;32m/opt/conda/lib/python3.11/site-packages/uvicorn/main.py:577\u001b[0m, in \u001b[0;36mrun\u001b[0;34m(app, host, port, uds, fd, loop, http, ws, ws_max_size, ws_max_queue, ws_ping_interval, ws_ping_timeout, ws_per_message_deflate, lifespan, interface, reload, reload_dirs, reload_includes, reload_excludes, reload_delay, workers, env_file, log_config, log_level, access_log, proxy_headers, server_header, date_header, forwarded_allow_ips, root_path, limit_concurrency, backlog, limit_max_requests, timeout_keep_alive, timeout_graceful_shutdown, ssl_keyfile, ssl_certfile, ssl_keyfile_password, ssl_version, ssl_cert_reqs, ssl_ca_certs, ssl_ciphers, headers, use_colors, app_dir, factory, h11_max_incomplete_event_size)\u001b[0m\n\u001b[1;32m    575\u001b[0m         Multiprocess(config, target\u001b[38;5;241m=\u001b[39mserver\u001b[38;5;241m.\u001b[39mrun, sockets\u001b[38;5;241m=\u001b[39m[sock])\u001b[38;5;241m.\u001b[39mrun()\n\u001b[1;32m    576\u001b[0m     \u001b[38;5;28;01melse\u001b[39;00m:\n\u001b[0;32m--> 577\u001b[0m         \u001b[43mserver\u001b[49m\u001b[38;5;241;43m.\u001b[39;49m\u001b[43mrun\u001b[49m\u001b[43m(\u001b[49m\u001b[43m)\u001b[49m\n\u001b[1;32m    578\u001b[0m \u001b[38;5;28;01mfinally\u001b[39;00m:\n\u001b[1;32m    579\u001b[0m     \u001b[38;5;28;01mif\u001b[39;00m config\u001b[38;5;241m.\u001b[39muds \u001b[38;5;129;01mand\u001b[39;00m os\u001b[38;5;241m.\u001b[39mpath\u001b[38;5;241m.\u001b[39mexists(config\u001b[38;5;241m.\u001b[39muds):\n",
      "File \u001b[0;32m/opt/conda/lib/python3.11/site-packages/uvicorn/server.py:65\u001b[0m, in \u001b[0;36mServer.run\u001b[0;34m(self, sockets)\u001b[0m\n\u001b[1;32m     63\u001b[0m \u001b[38;5;28;01mdef\u001b[39;00m \u001b[38;5;21mrun\u001b[39m(\u001b[38;5;28mself\u001b[39m, sockets: \u001b[38;5;28mlist\u001b[39m[socket\u001b[38;5;241m.\u001b[39msocket] \u001b[38;5;241m|\u001b[39m \u001b[38;5;28;01mNone\u001b[39;00m \u001b[38;5;241m=\u001b[39m \u001b[38;5;28;01mNone\u001b[39;00m) \u001b[38;5;241m-\u001b[39m\u001b[38;5;241m>\u001b[39m \u001b[38;5;28;01mNone\u001b[39;00m:\n\u001b[1;32m     64\u001b[0m     \u001b[38;5;28mself\u001b[39m\u001b[38;5;241m.\u001b[39mconfig\u001b[38;5;241m.\u001b[39msetup_event_loop()\n\u001b[0;32m---> 65\u001b[0m     \u001b[38;5;28;01mreturn\u001b[39;00m \u001b[43masyncio\u001b[49m\u001b[38;5;241;43m.\u001b[39;49m\u001b[43mrun\u001b[49m\u001b[43m(\u001b[49m\u001b[38;5;28;43mself\u001b[39;49m\u001b[38;5;241;43m.\u001b[39;49m\u001b[43mserve\u001b[49m\u001b[43m(\u001b[49m\u001b[43msockets\u001b[49m\u001b[38;5;241;43m=\u001b[39;49m\u001b[43msockets\u001b[49m\u001b[43m)\u001b[49m\u001b[43m)\u001b[49m\n",
      "File \u001b[0;32m/opt/conda/lib/python3.11/asyncio/runners.py:186\u001b[0m, in \u001b[0;36mrun\u001b[0;34m(main, debug)\u001b[0m\n\u001b[1;32m    161\u001b[0m \u001b[38;5;250m\u001b[39m\u001b[38;5;124;03m\"\"\"Execute the coroutine and return the result.\u001b[39;00m\n\u001b[1;32m    162\u001b[0m \n\u001b[1;32m    163\u001b[0m \u001b[38;5;124;03mThis function runs the passed coroutine, taking care of\u001b[39;00m\n\u001b[0;32m   (...)\u001b[0m\n\u001b[1;32m    182\u001b[0m \u001b[38;5;124;03m    asyncio.run(main())\u001b[39;00m\n\u001b[1;32m    183\u001b[0m \u001b[38;5;124;03m\"\"\"\u001b[39;00m\n\u001b[1;32m    184\u001b[0m \u001b[38;5;28;01mif\u001b[39;00m events\u001b[38;5;241m.\u001b[39m_get_running_loop() \u001b[38;5;129;01mis\u001b[39;00m \u001b[38;5;129;01mnot\u001b[39;00m \u001b[38;5;28;01mNone\u001b[39;00m:\n\u001b[1;32m    185\u001b[0m     \u001b[38;5;66;03m# fail fast with short traceback\u001b[39;00m\n\u001b[0;32m--> 186\u001b[0m     \u001b[38;5;28;01mraise\u001b[39;00m \u001b[38;5;167;01mRuntimeError\u001b[39;00m(\n\u001b[1;32m    187\u001b[0m         \u001b[38;5;124m\"\u001b[39m\u001b[38;5;124masyncio.run() cannot be called from a running event loop\u001b[39m\u001b[38;5;124m\"\u001b[39m)\n\u001b[1;32m    189\u001b[0m \u001b[38;5;28;01mwith\u001b[39;00m Runner(debug\u001b[38;5;241m=\u001b[39mdebug) \u001b[38;5;28;01mas\u001b[39;00m runner:\n\u001b[1;32m    190\u001b[0m     \u001b[38;5;28;01mreturn\u001b[39;00m runner\u001b[38;5;241m.\u001b[39mrun(main)\n",
      "\u001b[0;31mRuntimeError\u001b[0m: asyncio.run() cannot be called from a running event loop"
     ]
    }
   ],
   "source": [
    "if __name__ == \"__main__\": \n",
    "  best_model_run_id, best_model_name = \"adc12572abe04f1eb83ab14a1fb0f111\", \"Decision_Tree_Regression\"\n",
    "  model = load_best_model(best_model_run_id, best_model_name)\n",
    "  model_serving = ModelServing(model)\n",
    "  uvicorn.run(app, host=\"0.0.0.0\", port=1234)"
   ]
  },
  {
   "cell_type": "code",
   "execution_count": null,
   "id": "31118f3f-c7e6-4654-b979-5a0f8fd814c8",
   "metadata": {},
   "outputs": [],
   "source": []
  }
 ],
 "metadata": {
  "kernelspec": {
   "display_name": "Python 3 (ipykernel)",
   "language": "python",
   "name": "python3"
  },
  "language_info": {
   "codemirror_mode": {
    "name": "ipython",
    "version": 3
   },
   "file_extension": ".py",
   "mimetype": "text/x-python",
   "name": "python",
   "nbconvert_exporter": "python",
   "pygments_lexer": "ipython3",
   "version": "3.11.6"
  }
 },
 "nbformat": 4,
 "nbformat_minor": 5
}
